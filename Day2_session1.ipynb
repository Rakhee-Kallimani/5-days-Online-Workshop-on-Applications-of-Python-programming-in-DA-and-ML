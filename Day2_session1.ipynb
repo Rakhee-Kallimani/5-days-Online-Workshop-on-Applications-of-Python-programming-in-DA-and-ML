{
  "nbformat": 4,
  "nbformat_minor": 0,
  "metadata": {
    "colab": {
      "name": "Day2_session1.ipynb",
      "provenance": [],
      "authorship_tag": "ABX9TyOu8LQApXkfEwxbK+xPKCaN"
    },
    "kernelspec": {
      "name": "python3",
      "display_name": "Python 3"
    }
  },
  "cells": [
    {
      "cell_type": "markdown",
      "metadata": {
        "id": "gi0e3FlDfKAR",
        "colab_type": "text"
      },
      "source": [
        "a=[]\n",
        "n=int(input(\"Enter number of elements:\"))\n",
        "for i in range(1,n+1):\n",
        "    b=int(input(\"Enter element:\"))\n",
        "    a.append(b)\n",
        "a.sort()\n",
        "print(\"Largest element is:\",a[n-1])\n",
        "\n",
        "\n"
      ]
    },
    {
      "cell_type": "code",
      "metadata": {
        "id": "5WuzXYwxvrCH",
        "colab_type": "code",
        "colab": {
          "base_uri": "https://localhost:8080/",
          "height": 68
        },
        "outputId": "3d63662f-521f-47d4-a928-48160a6ad855"
      },
      "source": [
        "l_range=int(input(\"Enter the lower range:\"))\n",
        "u_range=int(input(\"Enter the upper range:\"))\n",
        "a=[(x,x**2) for x in range(l_range,u_range+1)]\n",
        "print(a)\n"
      ],
      "execution_count": null,
      "outputs": [
        {
          "output_type": "stream",
          "text": [
            "Enter the lower range:2 \n",
            "Enter the upper range:3\n",
            "[(2, 4), (3, 9)]\n"
          ],
          "name": "stdout"
        }
      ]
    },
    {
      "cell_type": "code",
      "metadata": {
        "id": "FPJzhWRek45B",
        "colab_type": "code",
        "colab": {}
      },
      "source": [
        "a=[]\n",
        "n=int(input(\"Enter number of elements:\"))\n",
        "for i in range(1,n+1):\n",
        "    b=int(input(\"Enter element:\"))\n",
        "    a.append(b)\n",
        "even=[]\n",
        "odd=[]\n",
        "for j in a:\n",
        "    if(j%2==0):\n",
        "        even.append(j)\n",
        "    else:\n",
        "        odd.append(j)\n",
        "print(\"The even list\",even)\n",
        "print(\"The odd list\",odd)\n"
      ],
      "execution_count": null,
      "outputs": []
    },
    {
      "cell_type": "code",
      "metadata": {
        "id": "CSrYinzwlbBj",
        "colab_type": "code",
        "colab": {}
      },
      "source": [
        "a=[]\n",
        "c=[]\n",
        "n1=int(input(\"Enter number of elements:\"))\n",
        "for i in range(1,n1+1):\n",
        "    b=int(input(\"Enter element:\"))\n",
        "    a.append(b)\n",
        "n2=int(input(\"Enter number of elements:\"))\n",
        "for i in range(1,n2+1):\n",
        "    d=int(input(\"Enter element:\"))\n",
        "    c.append(d)\n",
        "new=a+c\n",
        "new.sort()\n",
        "print(\"Sorted list is:\",new)\n"
      ],
      "execution_count": null,
      "outputs": []
    },
    {
      "cell_type": "code",
      "metadata": {
        "id": "OtrDVnxSmSvq",
        "colab_type": "code",
        "colab": {}
      },
      "source": [
        "a=[['A',34],['B',21],['C',26],['E',29]]\n",
        "\n",
        "for i in range(0,len(a)):\n",
        "    for j in range(i+1,len(a)):\n",
        "        if(a[i][1]>a[j][1]):\n",
        "            temp=a[j]\n",
        "            a[j]=a[i]\n",
        "            a[i]=temp\n",
        " \n",
        "print(a)\n",
        "\n"
      ],
      "execution_count": null,
      "outputs": []
    },
    {
      "cell_type": "code",
      "metadata": {
        "id": "vqrtXTngrHkF",
        "colab_type": "code",
        "colab": {}
      },
      "source": [
        "a=[]\n",
        "n=int(input(\"Enter number of elements:\"))\n",
        "for i in range(1,n+1):\n",
        "    b=int(input(\"Enter element:\"))\n",
        "    a.append(b)\n",
        "for i in range(0,len(a)):\n",
        "    for j in range(0,len(a)-i-1):\n",
        "        if(a[j]>a[j+1]):\n",
        "            temp=a[j]\n",
        "            a[j]=a[j+1]\n",
        "            a[j+1]=temp \n",
        "print('Second largest number is:',a[n-2])\n"
      ],
      "execution_count": null,
      "outputs": []
    },
    {
      "cell_type": "code",
      "metadata": {
        "id": "D6rJHDF5lbz8",
        "colab_type": "code",
        "colab": {}
      },
      "source": [
        "import random\n",
        "a=[]\n",
        "n=int(input(\"Enter number of elements:\"))\n",
        "for j in range(n):\n",
        "    a.append(random.randint(1,10))\n",
        "print('Randomised list is: ',a)\n",
        "\n"
      ],
      "execution_count": null,
      "outputs": []
    },
    {
      "cell_type": "code",
      "metadata": {
        "id": "fQS1SxYpx9CS",
        "colab_type": "code",
        "colab": {}
      },
      "source": [
        "#print multiples of 3 upto 200 using a list\n",
        "a=[i for i in range(3,200,3)]\n",
        "print(a)"
      ],
      "execution_count": null,
      "outputs": []
    },
    {
      "cell_type": "code",
      "metadata": {
        "id": "AbHZMhNH2dDm",
        "colab_type": "code",
        "colab": {}
      },
      "source": [
        "a=[]\n",
        "for i in range(1000,2001):\n",
        "  if(i%5==0 and i%7==0):\n",
        "    a.append(i)\n",
        "print(a)"
      ],
      "execution_count": null,
      "outputs": []
    },
    {
      "cell_type": "code",
      "metadata": {
        "id": "YMtSXH3B28mw",
        "colab_type": "code",
        "colab": {
          "base_uri": "https://localhost:8080/",
          "height": 119
        },
        "outputId": "5ac769a8-c8ae-4d22-c295-76195b71898b"
      },
      "source": [
        "#Add the n number of names in a list and print them alphabetically and reverse alphabetically\n",
        "a=[]\n",
        "b=int(input(\"enter the no of names\"))\n",
        "for x in range(1,b+1):\n",
        "  c=input(\"enter names\")\n",
        "  a.append(c)\n",
        "\n",
        "a.sort()\n",
        "print(a)\n",
        "a.reverse()\n",
        "print(a)"
      ],
      "execution_count": null,
      "outputs": [
        {
          "output_type": "stream",
          "text": [
            "enter the no of names3\n",
            "enter namescat\n",
            "enter namesdog\n",
            "enter namesapple\n",
            "['apple', 'cat', 'dog']\n",
            "['dog', 'cat', 'apple']\n"
          ],
          "name": "stdout"
        }
      ]
    },
    {
      "cell_type": "code",
      "metadata": {
        "id": "rqb5T6zg60B3",
        "colab_type": "code",
        "colab": {
          "base_uri": "https://localhost:8080/",
          "height": 34
        },
        "outputId": "b0c45a0e-e7f6-439a-facd-c182009ff747"
      },
      "source": [
        "#Print  perfect squares and divisible by 5 between 500 and 1000( (both inclusive) using list\n",
        "a=[]\n",
        "import math\n",
        "# Taking the input from user\n",
        "for number in range (500,1001):\n",
        "  root = math.sqrt(number)\n",
        "  if (int(root + 0.5) ** 2 == number) and (number%5==0):\n",
        "    a.append(number)\n",
        "print(a)\n",
        "\n",
        "\n",
        "\n"
      ],
      "execution_count": null,
      "outputs": [
        {
          "output_type": "stream",
          "text": [
            "[625, 900]\n"
          ],
          "name": "stdout"
        }
      ]
    },
    {
      "cell_type": "code",
      "metadata": {
        "id": "eE0gEcGq_C2h",
        "colab_type": "code",
        "colab": {
          "base_uri": "https://localhost:8080/",
          "height": 51
        },
        "outputId": "a989e745-ac4c-45f5-f2f8-ff0e6a2368d1"
      },
      "source": [
        "txt = 'but soft what light in yonder window breaks'\n",
        "words = txt.split()\n",
        "#print(words)\n",
        "t = list()\n",
        "for word in words:\n",
        "   t.append((len(word), word))\n",
        "print(t) \n",
        "t.sort(reverse=True)\n",
        "\n",
        "res = list()\n",
        "for length, word in t:\n",
        "    res.append(word)\n",
        "\n",
        "print(res)\n",
        "\n"
      ],
      "execution_count": null,
      "outputs": [
        {
          "output_type": "stream",
          "text": [
            "[(3, 'but'), (4, 'soft'), (4, 'what'), (5, 'light'), (2, 'in'), (6, 'yonder'), (6, 'window'), (6, 'breaks')]\n",
            "['yonder', 'window', 'breaks', 'light', 'what', 'soft', 'but', 'in']\n"
          ],
          "name": "stdout"
        }
      ]
    },
    {
      "cell_type": "code",
      "metadata": {
        "id": "UL7mevFYBoQY",
        "colab_type": "code",
        "colab": {}
      },
      "source": [
        "# Create packed tuple.\n",
        "pair = (\"dog\", \"cat\", \"Monkey\")\n",
        "\n",
        "# Unpack tuple.\n",
        "(key, value, value1) = pair\n",
        "\n",
        "# Display unpacked variables.\n",
        "print(key)\n",
        "print(value)\n",
        "print(value1)\n"
      ],
      "execution_count": null,
      "outputs": []
    },
    {
      "cell_type": "code",
      "metadata": {
        "id": "6TyWjAIvDm3m",
        "colab_type": "code",
        "colab": {}
      },
      "source": [
        "pair = (\"dog\", \"cat\",\"Monkey\")\n",
        "\n",
        "# Search for a value.\n",
        "if \"cat\" in pair:\n",
        "    print(\"Cat found\")\n",
        "if \"Monkey\" in pair:\n",
        "    print(\"Monkey\")\n",
        "\n",
        "\n",
        "\n",
        "# Search for a value not present.\n",
        "if \"bird\" not in pair:\n",
        "    print(\"Bird not found\")\n"
      ],
      "execution_count": null,
      "outputs": []
    },
    {
      "cell_type": "code",
      "metadata": {
        "id": "1tv26KwBEPuH",
        "colab_type": "code",
        "colab": {
          "base_uri": "https://localhost:8080/",
          "height": 51
        },
        "outputId": "f73ffd1a-464e-4572-a5eb-db472d741f8a"
      },
      "source": [
        "#Get  a string and store word by word as elements in a tuple and find the largest word in the  tuple and print it\n",
        "\n",
        "txt=input(\"Enter the String\")\n",
        "\n",
        "\n",
        "words = txt.split()\n",
        "#print(words)\n",
        "t = list()\n",
        "for word in words:\n",
        "   t.append(word)\n",
        " \n",
        "t.sort()\n",
        "\n",
        "print(\"the largest word is\",t[-1])\n"
      ],
      "execution_count": null,
      "outputs": [
        {
          "output_type": "stream",
          "text": [
            "Enter the Stringdelhi in india\n",
            "the largest word is india\n"
          ],
          "name": "stdout"
        }
      ]
    },
    {
      "cell_type": "code",
      "metadata": {
        "id": "SQA44DuRNBxc",
        "colab_type": "code",
        "colab": {
          "base_uri": "https://localhost:8080/",
          "height": 204
        },
        "outputId": "e15c2c42-0a46-4741-d6ec-39d7caaf1c8e"
      },
      "source": [
        "#Get rollno and marks (Rollno, mark) as list of tuples for n number of students through keyboard  and print them in marks descending order with rollno.\n",
        "a=[]\n",
        "d=[]\n",
        "n=int(input(\"Enter a number:\"))\n",
        "for x in range(1,n+1):\n",
        "  r=int(input(\"Enter roll no\"))\n",
        "  m=int(input(\"enter marks\"))\n",
        "  d=[(r,m)]\n",
        "  a.append(d)\n",
        "print(a)\n",
        "a.sort(reverse=True)\n",
        "print(\"the sorted list is \",a)"
      ],
      "execution_count": null,
      "outputs": [
        {
          "output_type": "stream",
          "text": [
            "Enter a number:4\n",
            "Enter roll no23\n",
            "enter marks45\n",
            "Enter roll no25\n",
            "enter marks25\n",
            "Enter roll no23\n",
            "enter marks44\n",
            "Enter roll no99\n",
            "enter marks56\n",
            "[[(23, 45)], [(25, 25)], [(23, 44)], [(99, 56)]]\n",
            "the sorted list is  [[(99, 56)], [(25, 25)], [(23, 45)], [(23, 44)]]\n"
          ],
          "name": "stdout"
        }
      ]
    },
    {
      "cell_type": "code",
      "metadata": {
        "id": "7qsT3qh7UjF8",
        "colab_type": "code",
        "colab": {
          "base_uri": "https://localhost:8080/",
          "height": 170
        },
        "outputId": "35efbb3c-c646-4f32-b9f5-9d0363159894"
      },
      "source": [
        "#Get name and salary (name, salary) as list of tuples for n number of employees through keyboard  and print them in name alphabetical order with salary\n",
        "a=[]\n",
        "d=[]\n",
        "n=int(input(\"Enter a number of employee:\"))\n",
        "for x in range(1,n+1):\n",
        "  n=input(\"Enter name\")\n",
        "  s=int(input(\"enter salary\"))\n",
        "  d=[(n,s)]\n",
        "  a.append(d)\n",
        "print(a)\n",
        "a.sort()\n",
        "print(\"the list of employee in alphabetical order is \",a)"
      ],
      "execution_count": null,
      "outputs": [
        {
          "output_type": "stream",
          "text": [
            "Enter a number of employee:3\n",
            "Enter nameseeta\n",
            "enter salary9900\n",
            "Enter nameGeeta\n",
            "enter salary1200\n",
            "Enter nameRam\n",
            "enter salary25300\n",
            "[[('seeta', 9900)], [('Geeta', 1200)], [('Ram', 25300)]]\n",
            "the list of employee in alphabetical order is  [[('Geeta', 1200)], [('Ram', 25300)], [('seeta', 9900)]]\n"
          ],
          "name": "stdout"
        }
      ]
    }
  ]
}