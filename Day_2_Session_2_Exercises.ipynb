{
  "nbformat": 4,
  "nbformat_minor": 0,
  "metadata": {
    "kernelspec": {
      "display_name": "Python 3",
      "language": "python",
      "name": "python3"
    },
    "language_info": {
      "codemirror_mode": {
        "name": "ipython",
        "version": 3
      },
      "file_extension": ".py",
      "mimetype": "text/x-python",
      "name": "python",
      "nbconvert_exporter": "python",
      "pygments_lexer": "ipython3",
      "version": "3.7.6"
    },
    "colab": {
      "name": "Day 2 Session 2 Exercises.ipynb",
      "provenance": []
    }
  },
  "cells": [
    {
      "cell_type": "markdown",
      "metadata": {
        "id": "sXPixaLlBfuP",
        "colab_type": "text"
      },
      "source": [
        "1.\tAdd name and marks {name:mark} for n number of students through keyboard in a dictionary and print the marks in descending order with respective name."
      ]
    },
    {
      "cell_type": "code",
      "metadata": {
        "id": "50u9zU03Bfug",
        "colab_type": "code",
        "colab": {},
        "outputId": "33f86925-d5a9-418b-9e8f-23bb5a1ba9d5"
      },
      "source": [
        "list = {}\n",
        "n = int(input(\"Enter number of Students: \"))\n",
        "for i in range(n):\n",
        "    name, mark = input(\"Enter name and mark: \").split()\n",
        "    list.update({name:mark})\n",
        "for key in sorted(list, reverse = True):\n",
        "    print(\"%s: %s\" % (key, list[key]))"
      ],
      "execution_count": null,
      "outputs": [
        {
          "output_type": "stream",
          "text": [
            "Enter number of Students: 4\n",
            "Enter name and mark: abhi 35\n",
            "Enter name and mark: zen 36\n",
            "Enter name and mark: joe 32\n",
            "Enter name and mark: mark 28\n",
            "zen: 36\n",
            "mark: 28\n",
            "joe: 32\n",
            "abhi: 35\n"
          ],
          "name": "stdout"
        }
      ]
    },
    {
      "cell_type": "markdown",
      "metadata": {
        "id": "08p_noYyBfvS",
        "colab_type": "text"
      },
      "source": [
        "2.\tAdd  name and salary {name:salary} for n number of employees through keyboard in a dictionary and print them in name alphabetical order with salary"
      ]
    },
    {
      "cell_type": "code",
      "metadata": {
        "id": "VqSq6xObBfvX",
        "colab_type": "code",
        "colab": {},
        "outputId": "f9ee254a-d5c5-48dd-8cb1-edc1e7ef2be1"
      },
      "source": [
        "list = {}\n",
        "n = int(input(\"Enter number of employees: \"))\n",
        "for i in range(n):\n",
        "    name, salary = input(\"Enter name and salary: \").split()\n",
        "    list.update({name:salary})\n",
        "for key in sorted(list):\n",
        "    print(\"%s: %s\" % (key, list[key]))"
      ],
      "execution_count": null,
      "outputs": [
        {
          "output_type": "stream",
          "text": [
            "Enter number of employees: 4\n",
            "Enter name and salary: jazz 2100\n",
            "Enter name and salary: zack 3600\n",
            "Enter name and salary: aniket 2100\n",
            "Enter name and salary: rose 4000\n",
            "aniket: 2100\n",
            "jazz: 2100\n",
            "rose: 4000\n",
            "zack: 3600\n"
          ],
          "name": "stdout"
        }
      ]
    },
    {
      "cell_type": "markdown",
      "metadata": {
        "id": "6wWKDV2wBfv0",
        "colab_type": "text"
      },
      "source": [
        "3.\tAdd  name and salary {name:salary} for n number of employees through keyboard in a dictionary and print them in salary  ascending order and  sum, max, min and average of the salaries"
      ]
    },
    {
      "cell_type": "code",
      "metadata": {
        "id": "hkKaOgNSBfv3",
        "colab_type": "code",
        "colab": {},
        "outputId": "711d0a5a-a91f-463d-e2ef-2e40abe7e89a"
      },
      "source": [
        "leg = {}\n",
        "acc = []\n",
        "n = int(input(\"Enter number of employees: \"))\n",
        "for i in range(n):\n",
        "    name, salary = input(\"Enter name and salary: \").split()\n",
        "    name, salary = name, float(salary)\n",
        "    leg.update({name:salary})\n",
        "sort_orders = sorted(leg.items(), key=lambda x: x[1])\n",
        "for i in sort_orders:\n",
        "    acc.append(i[1])\n",
        "print(\"Salary in ascending order: \",acc)\n",
        "print(\"Sum: \",sum(acc))\n",
        "print(\"Max: \",max(acc))\n",
        "print(\"Min: \",min(acc))\n",
        "print(\"Average: \", sum(acc)/n)"
      ],
      "execution_count": null,
      "outputs": [
        {
          "output_type": "stream",
          "text": [
            "Enter number of employees: 4\n",
            "Enter name and salary: raj 3500\n",
            "Enter name and salary: vinu 3200\n",
            "Enter name and salary: joe 3800\n",
            "Enter name and salary: krish 3700\n",
            "Salary in ascending order:  [3200.0, 3500.0, 3700.0, 3800.0]\n",
            "Sum:  14200.0\n",
            "Max:  3800.0\n",
            "Min:  3200.0\n",
            "Average:  3550.0\n"
          ],
          "name": "stdout"
        }
      ]
    },
    {
      "cell_type": "markdown",
      "metadata": {
        "id": "lineA6XEBfxA",
        "colab_type": "text"
      },
      "source": [
        "4.\tAdd name and salary {name:salary} for n number of employees through keyboard in a dictionary and print only the employees whose salary is greater than 2000 but less than 4000"
      ]
    },
    {
      "cell_type": "code",
      "metadata": {
        "id": "YX3jfR07BfxL",
        "colab_type": "code",
        "colab": {},
        "outputId": "3659f210-ed3f-41f5-b109-f0ce85ee9561"
      },
      "source": [
        "leg = {}\n",
        "n = int(input(\"Enter number of employees: \"))\n",
        "for i in range(n):\n",
        "    name, salary = input(\"Enter name and salary: \").split()\n",
        "    name, salary = name, float(salary)\n",
        "    leg.update({name:salary})\n",
        "sort_orders = sorted(leg.items(), key=lambda x: x[1])\n",
        "print(\"Employees whose salary is greater than 2000 but less than 4000: \")\n",
        "for i in sort_orders:\n",
        "    if i[1] > 2000 and i[1] <4000:\n",
        "        print(i[0],\" : \", i[1])\n"
      ],
      "execution_count": null,
      "outputs": [
        {
          "output_type": "stream",
          "text": [
            "Enter number of employees: 4\n",
            "Enter name and salary: joe 2100\n",
            "Enter name and salary: park 4100\n",
            "Enter name and salary: jack 3500\n",
            "Enter name and salary: lax 1200\n",
            "Employees whose salary is greater than 2000 but less than 4000: \n",
            "joe  :  2100.0\n",
            "jack  :  3500.0\n"
          ],
          "name": "stdout"
        }
      ]
    },
    {
      "cell_type": "markdown",
      "metadata": {
        "id": "5KuxSGKQBfy_",
        "colab_type": "text"
      },
      "source": [
        "5.\tPython program to convert a 3 digit number  into words"
      ]
    },
    {
      "cell_type": "code",
      "metadata": {
        "id": "6EvKAgt8BfzN",
        "colab_type": "code",
        "colab": {},
        "outputId": "9708eab7-a4f5-45f4-fa0c-fe08c86aeda7"
      },
      "source": [
        "digits = {0:\"zero\", 1:\"one\", 2:\"two\", 3:\"three\", 4:\"four\", 5:\"five\", 6:\"six\", 7:\"seven\", 8:\"eight\", 9:\"nine\"}\n",
        "digitstens = {0:\" \", 1:\"ten\", 2:\"twenty\", 3:\"thirty\", 4:\"fourty\", 5:\"fifty\", 6:\"sixty\", 7:\"seventy\", 8:\"eighty\", 9:\"ninty\"}\n",
        "digitsunits = {0:\" \", 1:\"one\", 2:\"two\", 3:\"three\", 4:\"four\", 5:\"five\", 6:\"six\", 7:\"seven\", 8:\"eight\", 9:\"nine\"}\n",
        "digitsfun = {0:\"ten\", 1:\"eleven\", 2:\"twelve\", 3:\"thirteen\", 4:\"fourteen\", 5:\"fifteen\", 6:\"sixteen\", 7:\"seventeen\", 8:\"eighteen\", 9:\"nineteen\"}\n",
        "n = int(input(\"Enter a 3 digit number: \"))\n",
        "if n > 99 and n <1000:\n",
        "    u = int(n%10)\n",
        "    t = int(int(n/10)%10)\n",
        "    h = int(int(int(n/10)/10)%10)\n",
        "\n",
        "    def hun(h):\n",
        "        sort_orders = sorted(digits.items(), key=lambda x: x[1])\n",
        "        for i in sort_orders:\n",
        "            if i[0] == h:\n",
        "                return(i[1])\n",
        "    def ten(t):\n",
        "        sort_orderstens = sorted(digitstens.items(), key=lambda x: x[1])\n",
        "        for i in sort_orderstens:\n",
        "            if i[0] == t:\n",
        "                return(i[1])\n",
        "    def uni(u):\n",
        "        sort_ordersunits = sorted(digitsunits.items(), key=lambda x: x[1])\n",
        "        for i in sort_ordersunits:\n",
        "            if i[0] == u:\n",
        "                return(i[1])\n",
        "    def fun(u):\n",
        "        sort_ordersfun = sorted(digitsfun.items(), key=lambda x: x[1])\n",
        "        for i in sort_ordersfun:\n",
        "            if i[0] == u:\n",
        "                return(i[1])\n",
        "    if t != 1:        \n",
        "        print(hun(h),\"hundred and\",ten(t),uni(u))\n",
        "    else:\n",
        "        print(hun(h),\"hundred and\",fun(u))\n",
        "else:\n",
        "    print(\"Invaild, Enter a 3 digit number.\")"
      ],
      "execution_count": null,
      "outputs": [
        {
          "output_type": "stream",
          "text": [
            "Enter a 3 digit number: 365\n",
            "three hundred and sixty five\n"
          ],
          "name": "stdout"
        }
      ]
    },
    {
      "cell_type": "markdown",
      "metadata": {
        "id": "usBo0E6PBf0K",
        "colab_type": "text"
      },
      "source": [
        "6. Python Program to count the total number of characters (except blank space) in a text file."
      ]
    },
    {
      "cell_type": "code",
      "metadata": {
        "id": "5wl613UwBf0R",
        "colab_type": "code",
        "colab": {},
        "outputId": "3500d18b-4963-49b0-f463-b91e95972676"
      },
      "source": [
        "fname = input(\"Enter file name: \")\n",
        "k=0\n",
        "num_char = 0\n",
        "with open(fname, 'r') as f:\n",
        "    for line in f:\n",
        "        char = line.split()\n",
        "        for i in char:\n",
        "            for letter in i:\n",
        "                if(letter.isalnum):\n",
        "                    k=k+1\n",
        "                    \n",
        "print(\"Total number of characters: \",k)"
      ],
      "execution_count": null,
      "outputs": [
        {
          "output_type": "stream",
          "text": [
            "Enter file name: India.txt\n",
            "Total number of characters:  218\n"
          ],
          "name": "stdout"
        }
      ]
    },
    {
      "cell_type": "markdown",
      "metadata": {
        "id": "VG8wTkRDBf1F",
        "colab_type": "text"
      },
      "source": [
        "7. Python Program to print all the numbers present in a text file with its total number of occurrence."
      ]
    },
    {
      "cell_type": "code",
      "metadata": {
        "id": "6H95PKl6Bf1N",
        "colab_type": "code",
        "colab": {},
        "outputId": "9c542200-b7d3-4365-e369-30f44bc00664"
      },
      "source": [
        "fname = input(\"Enter file name: \")\n",
        "k=l=m=n=o=p=q=r=s=t=0\n",
        "num_char = 0\n",
        "print(\"The numbers present in a text file are: \")\n",
        "with open(fname, 'r') as f:\n",
        "    for line in f:\n",
        "        char = line.split()\n",
        "        for i in char:\n",
        "            for letter in i:\n",
        "                if(letter == '1'):k+=1\n",
        "                if(letter == '2'):l+=1\n",
        "                if(letter == '3'):m+=1\n",
        "                if(letter == '4'):n+=1\n",
        "                if(letter == '5'):o+=1\n",
        "                if(letter == '6'):p+=1\n",
        "                if(letter == '7'):q+=1\n",
        "                if(letter == '8'):r+=1\n",
        "                if(letter == '9'):s+=1\n",
        "                if(letter == '0'):t+=1\n",
        "if k >0:print(\"Total number of occurrence of 1 is \",k,\"times\")   \n",
        "if l >0:print(\"Total number of occurrence of 2 is \",l,\"times\")\n",
        "if m >0:print(\"Total number of occurrence of 3 is \",m,\"times\")\n",
        "if n >0:print(\"Total number of occurrence of 4 is \",n,\"times\")\n",
        "if o >0:print(\"Total number of occurrence of 5 is \",o,\"times\")\n",
        "if p >0:print(\"Total number of occurrence of 6 is \",p,\"times\")\n",
        "if q >0:print(\"Total number of occurrence of 7 is \",q,\"times\")\n",
        "if r >0:print(\"Total number of occurrence of 8 is \",r,\"times\")\n",
        "if s >0:print(\"Total number of occurrence of 9 is \",s,\"times\")\n",
        "if t >0:print(\"Total number of occurrence of 0 is \",t,\"times\")"
      ],
      "execution_count": null,
      "outputs": [
        {
          "output_type": "stream",
          "text": [
            "Enter file name: India.txt\n",
            "The numbers present in a text file are: \n",
            "Total number of occurrence of 1 is  6 times\n",
            "Total number of occurrence of 2 is  7 times\n",
            "Total number of occurrence of 3 is  7 times\n",
            "Total number of occurrence of 4 is  7 times\n",
            "Total number of occurrence of 5 is  7 times\n",
            "Total number of occurrence of 6 is  7 times\n",
            "Total number of occurrence of 7 is  6 times\n",
            "Total number of occurrence of 8 is  6 times\n",
            "Total number of occurrence of 9 is  6 times\n",
            "Total number of occurrence of 0 is  2 times\n"
          ],
          "name": "stdout"
        }
      ]
    },
    {
      "cell_type": "markdown",
      "metadata": {
        "id": "TcerfgvyBf17",
        "colab_type": "text"
      },
      "source": [
        "8. Python Program to append the contents of one file to another file by getting the both file names through keyboard . "
      ]
    },
    {
      "cell_type": "code",
      "metadata": {
        "id": "mU9QYgHjBf1_",
        "colab_type": "code",
        "colab": {},
        "outputId": "01f5f89b-5549-4c6d-ac7e-a1daadf19bd3"
      },
      "source": [
        "fname = input(\"Enter file name to be copied from: \")\n",
        "fname1 = input(\"Enter file name to be copied to: \")\n",
        "with open(fname) as f:\n",
        "    with open(fname1, \"a\") as f1:\n",
        "        for line in f:\n",
        "            f1.write(line)\n",
        "        f1.write(\"\\n\")\n",
        "print(\"Done\")"
      ],
      "execution_count": null,
      "outputs": [
        {
          "output_type": "stream",
          "text": [
            "Enter file name to be copied from: India.txt\n",
            "Enter file name to be copied to: Output_append.txt\n",
            "Done\n"
          ],
          "name": "stdout"
        }
      ]
    },
    {
      "cell_type": "markdown",
      "metadata": {
        "id": "VgFy2laEBf2i",
        "colab_type": "text"
      },
      "source": [
        "9. Python Program to count the number of blank spaces in a text file"
      ]
    },
    {
      "cell_type": "code",
      "metadata": {
        "id": "7LV_vEtaBf2p",
        "colab_type": "code",
        "colab": {},
        "outputId": "d3872f1f-335a-4361-8c99-ebcc0be96ef0"
      },
      "source": [
        "fname = input(\"Enter file name: \")\n",
        "k = 0\n",
        "with open(fname, 'r') as f:\n",
        "    for line in f:\n",
        "        words = line.split()\n",
        "        for i in words:\n",
        "            if(i.isspace):\n",
        "                k=k+1\n",
        "print(\"Number of blank spaces: \",k)"
      ],
      "execution_count": null,
      "outputs": [
        {
          "output_type": "stream",
          "text": [
            "Enter file name: India.txt\n",
            "Number of blank spaces:  33\n"
          ],
          "name": "stdout"
        }
      ]
    },
    {
      "cell_type": "markdown",
      "metadata": {
        "id": "lCgOq1AzBf3U",
        "colab_type": "text"
      },
      "source": [
        "10. Python Program to read a file and capitalize the first letter of every word in the file and copy the every word capitalized content  into another file and read it"
      ]
    },
    {
      "cell_type": "code",
      "metadata": {
        "id": "P_qXBOCtBf3b",
        "colab_type": "code",
        "colab": {},
        "outputId": "1893670e-9809-494e-efa9-e0a93be3c0ea"
      },
      "source": [
        "fname = input(\"Enter file name to capitalize the first letter from: \")\n",
        "fname1 = input(\"Enter file name to be copied to: \")\n",
        "with open(fname) as f:\n",
        "    with open(fname1, \"w\") as f1:\n",
        "        for line in f:\n",
        "            f1.write(line.title())\n",
        "        f1.write(\"\\n\")\n",
        "print(\"\\n\")\n",
        "with open(fname1, \"r\") as f1:\n",
        "    for line in f1:\n",
        "        l=line.split()\n",
        "        st= \" \".join(l)\n",
        "        print (st)\n"
      ],
      "execution_count": null,
      "outputs": [
        {
          "output_type": "stream",
          "text": [
            "Enter file name to capitalize the first letter from: India.txt\n",
            "Enter file name to be copied to: Output_capitalize.txt\n",
            "\n",
            "\n",
            "India, Officially The Republic Of India, Is A Country In South Asia\n",
            "It Is The Second-Most Populous Country\n",
            "123456789098765432432156789\n",
            "The Seventh-Largest Country By Area\n",
            "And The Most Populous Democracy In The World\n",
            "1234567890987654321654321432156789\n"
          ],
          "name": "stdout"
        }
      ]
    },
    {
      "cell_type": "code",
      "metadata": {
        "id": "GV9Bv5VvBf4W",
        "colab_type": "code",
        "colab": {}
      },
      "source": [
        ""
      ],
      "execution_count": null,
      "outputs": []
    }
  ]
}