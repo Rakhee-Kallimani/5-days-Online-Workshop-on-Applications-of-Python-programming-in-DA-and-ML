{
 "cells": [
  {
   "cell_type": "markdown",
   "metadata": {},
   "source": [
    "1.\tFind the compound interest for the given p,n,r  (formula : p(1+n*r/100)^n )"
   ]
  },
  {
   "cell_type": "code",
   "execution_count": 1,
   "metadata": {},
   "outputs": [
    {
     "name": "stdout",
     "output_type": "stream",
     "text": [
      "Enter the Principal: 500000\n",
      "Enter the Period: 7\n",
      "Enter the Rate of Interest (years): 12.5\n",
      "The compund interest is  640348.6728668213\n"
     ]
    }
   ],
   "source": [
    "p = float(input(\"Enter the Principal: \"))\n",
    "n = float(input(\"Enter the Period: \"))\n",
    "r = float(input(\"Enter the Rate of Interest (years): \"))\n",
    "c = (p*((1 + r / 100)**n))-p\n",
    "print(\"The compund interest is \", c)"
   ]
  },
  {
   "cell_type": "markdown",
   "metadata": {},
   "source": [
    "2.\tConvert Centigrade to Fahrenheit  ( f= 9/5*c+32)"
   ]
  },
  {
   "cell_type": "code",
   "execution_count": 2,
   "metadata": {},
   "outputs": [
    {
     "name": "stdout",
     "output_type": "stream",
     "text": [
      "Enter Temperature in C: 25\n",
      "25.0 Centigrade is converted to 77.0 Fahrenheit\n"
     ]
    }
   ],
   "source": [
    "c = float(input(\"Enter Temperature in C: \"))\n",
    "f= 9/5*c+32\n",
    "print(\"{} Centigrade is converted to {} Fahrenheit\".format(c,f))"
   ]
  },
  {
   "cell_type": "markdown",
   "metadata": {},
   "source": [
    "3.\tFind the greater of two nos "
   ]
  },
  {
   "cell_type": "code",
   "execution_count": 3,
   "metadata": {},
   "outputs": [
    {
     "name": "stdout",
     "output_type": "stream",
     "text": [
      "Enter the 1st number: 9\n",
      "Enter the 2nd number: 11\n",
      "The greatest number is  11.0\n"
     ]
    }
   ],
   "source": [
    "n1 = float(input(\"Enter the 1st number: \"))\n",
    "n2 = float(input(\"Enter the 2nd number: \"))\n",
    "if n1 > n2:\n",
    "    print(\"The greatest number is \", n1)\n",
    "else:\n",
    "    print(\"The greatest number is \", n2)"
   ]
  },
  {
   "cell_type": "markdown",
   "metadata": {},
   "source": [
    "4.\tWrite a program for finding surface areas of cylinder and volume of cone (2 x PI x r x r x h, 1/3 x PI x r x r x h) using function."
   ]
  },
  {
   "cell_type": "code",
   "execution_count": 4,
   "metadata": {},
   "outputs": [
    {
     "name": "stdout",
     "output_type": "stream",
     "text": [
      "Enter the Radius: 5\n",
      "Enter the Height: 2\n",
      "The surface areas of cylinder is  314.1592653589793\n",
      "The volume of cone is  52.35987755982988\n"
     ]
    }
   ],
   "source": [
    "PI = 3.141592653589793\n",
    "r = float(input(\"Enter the Radius: \"))\n",
    "h = float(input(\"Enter the Height: \"))\n",
    "\n",
    "def cylinder():\n",
    "    return 2*PI*r*r*h\n",
    "\n",
    "def cone():\n",
    "    return 1/3*PI*r*r*h\n",
    "\n",
    "print(\"The surface areas of cylinder is \", cylinder())\n",
    "print(\"The volume of cone is \", cone())"
   ]
  },
  {
   "cell_type": "markdown",
   "metadata": {},
   "source": [
    "5.\tFind the greatest of four nos ( using ‘and’ operator)   using function."
   ]
  },
  {
   "cell_type": "code",
   "execution_count": 5,
   "metadata": {},
   "outputs": [
    {
     "name": "stdout",
     "output_type": "stream",
     "text": [
      "Enter 4 numbers: 5 9 7 8\n",
      "The greatest number is  9\n"
     ]
    }
   ],
   "source": [
    "a,b,c,d = input(\"Enter 4 numbers: \").split()\n",
    "\n",
    "def max():\n",
    "    if((a>b) and (a>c) and (a>d)):\n",
    "        max = a\n",
    "    elif((b>a) and (b>c) and (b>d)):\n",
    "        max = b\n",
    "    elif((c>a) and (c>b) and (c>d)):\n",
    "        max = c\n",
    "    else:\n",
    "        max = d\n",
    "    return max\n",
    "\n",
    "print(\"The greatest number is \", max())"
   ]
  },
  {
   "cell_type": "markdown",
   "metadata": {},
   "source": [
    "6.\tWrite a  menu program to perform the operations ( ODD or Even, Factorial, ODDNo Upto N, Prime Upto N ) using functions for two nos with  menu choice."
   ]
  },
  {
   "cell_type": "code",
   "execution_count": 6,
   "metadata": {},
   "outputs": [
    {
     "name": "stdout",
     "output_type": "stream",
     "text": [
      "Welcome to operations.py\n",
      "your options are:\n",
      " \n",
      "1) Find N is Even or Odd\n",
      "2) Find factorial upto N\n",
      "3) Find Oddno upto N\n",
      "4) Find Prime no upto N\n",
      "5) Quit operations.py\n",
      " \n",
      "Choose your option: 1\n",
      " \n",
      " \n",
      "Enter the number: 9\n",
      "The answer is  Odd\n",
      "Welcome to operations.py\n",
      "your options are:\n",
      " \n",
      "1) Find N is Even or Odd\n",
      "2) Find factorial upto N\n",
      "3) Find Oddno upto N\n",
      "4) Find Prime no upto N\n",
      "5) Quit operations.py\n",
      " \n",
      "Choose your option: 2\n",
      " \n",
      " \n",
      "Enter the number: 9\n",
      "Factorial is  362880\n",
      "Welcome to operations.py\n",
      "your options are:\n",
      " \n",
      "1) Find N is Even or Odd\n",
      "2) Find factorial upto N\n",
      "3) Find Oddno upto N\n",
      "4) Find Prime no upto N\n",
      "5) Quit operations.py\n",
      " \n",
      "Choose your option: 3\n",
      " \n",
      " \n",
      "Enter the number: 8\n",
      "Odd numbers are  [1, 3, 5, 7]\n",
      "Welcome to operations.py\n",
      "your options are:\n",
      " \n",
      "1) Find N is Even or Odd\n",
      "2) Find factorial upto N\n",
      "3) Find Oddno upto N\n",
      "4) Find Prime no upto N\n",
      "5) Quit operations.py\n",
      " \n",
      "Choose your option: 4\n",
      " \n",
      " \n",
      "Enter the number: 9\n",
      "Prime numbers are  [2, 3, 5, 7]\n",
      "Welcome to operations.py\n",
      "your options are:\n",
      " \n",
      "1) Find N is Even or Odd\n",
      "2) Find factorial upto N\n",
      "3) Find Oddno upto N\n",
      "4) Find Prime no upto N\n",
      "5) Quit operations.py\n",
      " \n",
      "Choose your option: 5\n",
      " \n",
      " \n",
      "Thank-you for using operations.py!\n"
     ]
    }
   ],
   "source": [
    "loop = 1 \n",
    "choice = 0 \n",
    "\n",
    "def oddeve(n):\n",
    "    if (n % 2) == 0:\n",
    "        return \"Even\"\n",
    "    else:\n",
    "        return \"Odd\" \n",
    "    \n",
    "def fact(n):\n",
    "    if n == 1:\n",
    "        return n\n",
    "    elif n < 1:\n",
    "        return (\"NA\")\n",
    "    else:\n",
    "        return n*fact(n-1)\n",
    "\n",
    "def odd(n):\n",
    "    odd = []\n",
    "    for i in range(n+1):\n",
    "        if i%2 != 0:\n",
    "            odd.append(i)\n",
    "    return odd\n",
    "        \n",
    "def prime(n): \n",
    "    prime=[]\n",
    "    for a in range(2,n+1):\n",
    "        p=0\n",
    "        for i in range(2,a//2+1):\n",
    "            if(a%i==0):\n",
    "                p=p+1\n",
    "        if(p<=0):\n",
    "            prime.append(a)\n",
    "    return prime\n",
    "        \n",
    "while loop == 1:\n",
    "    print (\"Welcome to operations.py\")\n",
    "    print (\"your options are:\")\n",
    "    print (\" \")\n",
    "    print(\"1) Find N is Even or Odd\")\n",
    "    print(\"2) Find factorial upto N\")\n",
    "    print(\"3) Find Oddno upto N\")\n",
    "    print(\"4) Find Prime no upto N\")\n",
    "    print(\"5) Quit operations.py\")\n",
    "    print(\" \")\n",
    "    try:\n",
    "        choice = int(input(\"Choose your option: \"))\n",
    "    except:\n",
    "        print('please enter a valid number for option')\n",
    "    print(\" \")\n",
    "    print(\" \")\n",
    "    if choice == 1:\n",
    "        n = int(input(\"Enter the number: \"))\n",
    "        print(\"The answer is \", oddeve(n))\n",
    "    \n",
    "    elif choice == 2:\n",
    "        n = int(input(\"Enter the number: \"))\n",
    "        print(\"Factorial is \", fact(n))\n",
    "    \n",
    "    elif choice == 3:\n",
    "        n = int(input(\"Enter the number: \"))\n",
    "        print(\"Odd numbers are \",odd(n))\n",
    "\n",
    "    elif choice == 4:\n",
    "        n = int(input(\"Enter the number: \"))\n",
    "        print(\"Prime numbers are \",prime(n))\n",
    "        \n",
    "    elif choice == 5:\n",
    "        loop = 0\n",
    "     \n",
    "    else:\n",
    "        print(\"please choice a valid option from 1 to 5\")\n",
    "        choice=0\n",
    "print (\"Thank-you for using operations.py!\")"
   ]
  },
  {
   "cell_type": "code",
   "execution_count": null,
   "metadata": {},
   "outputs": [],
   "source": []
  }
 ],
 "metadata": {
  "kernelspec": {
   "display_name": "Python 3",
   "language": "python",
   "name": "python3"
  },
  "language_info": {
   "codemirror_mode": {
    "name": "ipython",
    "version": 3
   },
   "file_extension": ".py",
   "mimetype": "text/x-python",
   "name": "python",
   "nbconvert_exporter": "python",
   "pygments_lexer": "ipython3",
   "version": "3.7.6"
  }
 },
 "nbformat": 4,
 "nbformat_minor": 4
}
