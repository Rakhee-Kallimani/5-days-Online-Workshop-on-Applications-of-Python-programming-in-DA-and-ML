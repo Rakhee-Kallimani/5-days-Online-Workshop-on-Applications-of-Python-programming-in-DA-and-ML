{
  "nbformat": 4,
  "nbformat_minor": 0,
  "metadata": {
    "colab": {
      "name": "assignment1 session 2.ipynb",
      "provenance": [],
      "authorship_tag": "ABX9TyN3OGoNDw7B91lhEwibOnlz",
      "include_colab_link": true
    },
    "kernelspec": {
      "name": "python3",
      "display_name": "Python 3"
    }
  },
  "cells": [
    {
      "cell_type": "markdown",
      "metadata": {
        "id": "view-in-github",
        "colab_type": "text"
      },
      "source": [
        "<a href=\"https://colab.research.google.com/github/Rakhee-Kallimani/5-days-Online-Workshop-on-Applications-of-Python-programming-in-DA-and-ML/blob/master/assignment1_session_2.ipynb\" target=\"_parent\"><img src=\"https://colab.research.google.com/assets/colab-badge.svg\" alt=\"Open In Colab\"/></a>"
      ]
    },
    {
      "cell_type": "markdown",
      "metadata": {
        "id": "0_mZ32NnpN4X",
        "colab_type": "text"
      },
      "source": [
        "n=5;\n",
        "for i in range(1,0,n+1):\n",
        "    for j in range(i,0,-1):\n",
        "        print(j, end=\" \")\n",
        "    print('')\n",
        "\n",
        "for i in range(n,0,-1):\n",
        "    for j in range(i,n+1):\n",
        "        print (j , \" \", end=\" \")\n",
        "    print('')"
      ]
    },
    {
      "cell_type": "code",
      "metadata": {
        "id": "wqo-1ZwrYDNJ",
        "colab_type": "code",
        "colab": {
          "base_uri": "https://localhost:8080/",
          "height": 85
        },
        "outputId": "d75df61e-02ff-4d40-ba1e-064c4790cd96"
      },
      "source": [
        "# 1st Program\n",
        "n=4;\n",
        "for i in range(1,n+1):\n",
        "    for j in range(i,i+i):\n",
        "        print (j , \" \", end=\" \")\n",
        "    print('')\n"
      ],
      "execution_count": 237,
      "outputs": [
        {
          "output_type": "stream",
          "text": [
            "1   \n",
            "2   3   \n",
            "3   4   5   \n",
            "4   5   6   7   \n"
          ],
          "name": "stdout"
        }
      ]
    },
    {
      "cell_type": "code",
      "metadata": {
        "id": "m_Cs_oMVzFXv",
        "colab_type": "code",
        "colab": {}
      },
      "source": [
        ""
      ],
      "execution_count": null,
      "outputs": []
    },
    {
      "cell_type": "code",
      "metadata": {
        "id": "egKjGPx1b-e2",
        "colab_type": "code",
        "colab": {
          "base_uri": "https://localhost:8080/",
          "height": 85
        },
        "outputId": "f0830408-b063-4039-d499-d98522f0992b"
      },
      "source": [
        "#print *\n",
        "n=4;\n",
        "for i in range(1,n+1):\n",
        "    for j in range(i,i+i):\n",
        "        print ('*' , \" \", end=\" \")\n",
        "    print('')"
      ],
      "execution_count": 230,
      "outputs": [
        {
          "output_type": "stream",
          "text": [
            "*   \n",
            "*   *   \n",
            "*   *   *   \n",
            "*   *   *   *   \n"
          ],
          "name": "stdout"
        }
      ]
    },
    {
      "cell_type": "code",
      "metadata": {
        "id": "XLs1zyc2hMlj",
        "colab_type": "code",
        "colab": {
          "base_uri": "https://localhost:8080/",
          "height": 102
        },
        "outputId": "306a07c2-1601-4c45-8190-6edbf8adac59"
      },
      "source": [
        "# enter number \n",
        "n=5;\n",
        "for i in range(n,0,-1):\n",
        "    for j in range(i,n+1):\n",
        "        print (j , \" \", end=\" \")\n",
        "    print('')"
      ],
      "execution_count": 231,
      "outputs": [
        {
          "output_type": "stream",
          "text": [
            "5   \n",
            "4   5   \n",
            "3   4   5   \n",
            "2   3   4   5   \n",
            "1   2   3   4   5   \n"
          ],
          "name": "stdout"
        }
      ]
    },
    {
      "cell_type": "markdown",
      "metadata": {
        "id": "xLiuhoCFlMvF",
        "colab_type": "text"
      },
      "source": [
        "n=5;\n",
        "for i in range(n,0,-1):\n",
        "    for j in range(n):\n",
        "        print (j , \" \", end=\" \")\n",
        "    print('')"
      ]
    },
    {
      "cell_type": "code",
      "metadata": {
        "id": "AyibQmpunr6U",
        "colab_type": "code",
        "colab": {
          "base_uri": "https://localhost:8080/",
          "height": 102
        },
        "outputId": "97d347e4-143a-4193-812d-bb0998e4ca7f"
      },
      "source": [
        "# 4th program\n",
        "n=5\n",
        "for i in range(n,0,-1):\n",
        "    for j in range(i,0,-1):\n",
        "        print(j, end=\" \")\n",
        "    print('')\n"
      ],
      "execution_count": 232,
      "outputs": [
        {
          "output_type": "stream",
          "text": [
            "5 4 3 2 1 \n",
            "4 3 2 1 \n",
            "3 2 1 \n",
            "2 1 \n",
            "1 \n"
          ],
          "name": "stdout"
        }
      ]
    },
    {
      "cell_type": "code",
      "metadata": {
        "id": "GtHE5hnBrbnQ",
        "colab_type": "code",
        "colab": {
          "base_uri": "https://localhost:8080/",
          "height": 85
        },
        "outputId": "359736bf-0c25-4cd8-cc82-c8c53e31dea4"
      },
      "source": [
        "# \n",
        "n=4;\n",
        "for i in range(n,0,-1):\n",
        "    for j in range(i,n+1):\n",
        "        print (j , \" \", end=\" \")\n",
        "    print('')"
      ],
      "execution_count": 233,
      "outputs": [
        {
          "output_type": "stream",
          "text": [
            "4   \n",
            "3   4   \n",
            "2   3   4   \n",
            "1   2   3   4   \n"
          ],
          "name": "stdout"
        }
      ]
    },
    {
      "cell_type": "code",
      "metadata": {
        "id": "Ib1-0nQAzPIx",
        "colab_type": "code",
        "colab": {
          "base_uri": "https://localhost:8080/",
          "height": 136
        },
        "outputId": "dc05828b-5486-4b76-8c6d-6ae5b08f797c"
      },
      "source": [
        "#5th program\n",
        "n=4;\n",
        "for i in range(1,n,1):\n",
        "    for j in range(i,n+1):\n",
        "        print (j , \" \", end=\" \")\n",
        "    print(\" \")\n",
        "for i in range(n,0,-1):\n",
        "    for j in range(i,n+1):\n",
        "        print (j , \" \", end=\" \")\n",
        "    print('')"
      ],
      "execution_count": 234,
      "outputs": [
        {
          "output_type": "stream",
          "text": [
            "1   2   3   4    \n",
            "2   3   4    \n",
            "3   4    \n",
            "4   \n",
            "3   4   \n",
            "2   3   4   \n",
            "1   2   3   4   \n"
          ],
          "name": "stdout"
        }
      ]
    },
    {
      "cell_type": "code",
      "metadata": {
        "id": "Fdp7IMFl2S9m",
        "colab_type": "code",
        "colab": {
          "base_uri": "https://localhost:8080/",
          "height": 51
        },
        "outputId": "3793f639-5446-4854-fd4f-f0dc7b3e2626"
      },
      "source": [
        "#find the length of a string without using len functions\n",
        "c=0\n",
        "str=input(\"Enter string:\")\n",
        "for i in str:\n",
        " c+=1\n",
        "print(\"str length is\",c )"
      ],
      "execution_count": 236,
      "outputs": [
        {
          "output_type": "stream",
          "text": [
            "Enter string:sdf\n",
            "str length is 3\n"
          ],
          "name": "stdout"
        }
      ]
    },
    {
      "cell_type": "code",
      "metadata": {
        "id": "ZlxWAY_S4fjV",
        "colab_type": "code",
        "colab": {}
      },
      "source": [
        ""
      ],
      "execution_count": null,
      "outputs": []
    },
    {
      "cell_type": "code",
      "metadata": {
        "id": "Ydyl_dtB4Azk",
        "colab_type": "code",
        "colab": {
          "base_uri": "https://localhost:8080/",
          "height": 102
        },
        "outputId": "36287edd-2ba5-4415-c081-12eb8a75bdcb"
      },
      "source": [
        "#find the no of words and characters ina string\n",
        "\n",
        "string=input(\"Enter string:\")\n",
        "char=0\n",
        "word=1\n",
        "for i in string:\n",
        "      char=char+1\n",
        "      if(i==' '):\n",
        "            word=word+1\n",
        "print(\"Number of words in the string:\")\n",
        "print(word)\n",
        "print(\"Number of characters in the string:\")\n",
        "print(char)"
      ],
      "execution_count": 238,
      "outputs": [
        {
          "output_type": "stream",
          "text": [
            "Enter string:rakhee and krishna\n",
            "Number of words in the string:\n",
            "3\n",
            "Number of characters in the string:\n",
            "18\n"
          ],
          "name": "stdout"
        }
      ]
    },
    {
      "cell_type": "code",
      "metadata": {
        "id": "J-kFAJK9AlOS",
        "colab_type": "code",
        "colab": {
          "base_uri": "https://localhost:8080/",
          "height": 68
        },
        "outputId": "2b255fa7-c8df-4257-89e6-0ece5043ddc1"
      },
      "source": [
        "str=input(\"enter the string\")\n",
        "str1=input(\"enter the string to be checked\")\n",
        "c=dict()\n",
        "w=str.split()\n",
        "for i in w:\n",
        "  if i in c:\n",
        "    c[i]=c[i]+1\n",
        "  else:\n",
        "    c[i]=1\n",
        "print(\"the occurence of a word in a string is\",c[str1])\n",
        "  "
      ],
      "execution_count": 240,
      "outputs": [
        {
          "output_type": "stream",
          "text": [
            "enter the string rakhee is rakhee \n",
            "enter the string to be checkedrakhee\n",
            "the occurence of a word in a string is 2\n"
          ],
          "name": "stdout"
        }
      ]
    }
  ]
}